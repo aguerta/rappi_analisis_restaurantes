{
 "cells": [
  {
   "cell_type": "markdown",
   "id": "b3ca2be6",
   "metadata": {},
   "source": [
    "# (Transform part) ETL: Cómo obtener todos los datos de todos los restaurantes en Rappi\n",
    "\n",
    "En síntesis, este notebook es el primero de 3 que explican cómo obtener en .csv:\n",
    "<ol>\n",
    "<li>Los países disponibles en Rappi: paises_rappi.csv</li>\n",
    "<li>Los cadenas de restaurantes disponibles en cada país: cadenas_restaurantes_df.csv</li>\n",
    "<li>Las sucursales de cada cadena junto con sus atributos.</li>\n",
    "<li>Una tabla aparte listando las opiniones ligadas a cada sucursal: opiniones_sucursales.csv</li>\n",
    "</ol>\n",
    "------\n",
    "<p>Nota: Este código no tiene multiprocessing ni scrapping. A lo mucho te dolerá entender las expresiones regulares jaja.</p>\n",
    "<p>Fecha de edición: 6/12/2022</p>\n"
   ]
  },
  {
   "cell_type": "markdown",
   "id": "f2ecd278",
   "metadata": {},
   "source": [
    "Importamos las librerías a utilizar durante todo el proyecto:"
   ]
  },
  {
   "cell_type": "code",
   "execution_count": 1,
   "id": "b05aac2e",
   "metadata": {},
   "outputs": [],
   "source": [
    "import pandas as pd\n",
    "import numpy as np\n",
    "import seaborn as sns\n",
    "import matplotlib.pyplot as plt\n",
    "import csv\n",
    "import re\n",
    "from IPython.display import clear_output"
   ]
  },
  {
   "cell_type": "markdown",
   "id": "3a31c10b",
   "metadata": {},
   "source": [
    "## Revisamos nulos\n",
    "Como esta parte del ETL se trata de transformar y tampoco quiero perder los datos brutos que obtuvimos, nombraremos nuestro main df como \"atributos_sucursales_df\" para dejar intacto los datos de \"atributos_sucursales_bruto.csv\"."
   ]
  },
  {
   "cell_type": "code",
   "execution_count": 2,
   "id": "bec75318",
   "metadata": {},
   "outputs": [],
   "source": [
    "atributos_sucursales_df = pd.read_csv(\"atributos_sucursales_bruto.csv\")"
   ]
  },
  {
   "cell_type": "markdown",
   "id": "074824c0",
   "metadata": {},
   "source": [
    "Las listas por defecto se interpretan como strings a la hora de leerlas, por esta razón y porque vamos a continuamente exportar y leer este df, creé una función que interpreta correctamente nuestros datos."
   ]
  },
  {
   "cell_type": "code",
   "execution_count": 3,
   "id": "8c708a7f",
   "metadata": {},
   "outputs": [],
   "source": [
    "def clean_alt_list(list_): # Gracias Max Hilsdorf por ayudarme con este código \n",
    "    list_ = list_.replace('nan', '\"nan\"')\n",
    "    return list_\n",
    "\n",
    "def interpretar_bien_df(dataframe):\n",
    "    # Evaluamos las listas de estas columnas para que Pandas no las interprete como strings\n",
    "    if \"opinions\" in dataframe.columns:\n",
    "        dataframe[\"opinions\"] = dataframe[\"opinions\"].apply(eval)\n",
    "    if \"prices\" in dataframe.columns:\n",
    "        dataframe[\"prices\"] = dataframe[\"prices\"].apply(eval)\n",
    "    if \"attributes\" in dataframe.columns:\n",
    "        # Attributes es un caso especial, necesitamos aplicarle 2 funciones\n",
    "        dataframe[\"attributes\"] = dataframe[\"attributes\"].apply(clean_alt_list)\n",
    "        dataframe[\"attributes\"] = dataframe[\"attributes\"].apply(eval)\n",
    "    # Chequeamos como quedó el resultado\n",
    "    return dataframe"
   ]
  },
  {
   "cell_type": "code",
   "execution_count": 4,
   "id": "cb335db0",
   "metadata": {
    "scrolled": true
   },
   "outputs": [
    {
     "data": {
      "text/html": [
       "<div>\n",
       "<style scoped>\n",
       "    .dataframe tbody tr th:only-of-type {\n",
       "        vertical-align: middle;\n",
       "    }\n",
       "\n",
       "    .dataframe tbody tr th {\n",
       "        vertical-align: top;\n",
       "    }\n",
       "\n",
       "    .dataframe thead th {\n",
       "        text-align: right;\n",
       "    }\n",
       "</style>\n",
       "<table border=\"1\" class=\"dataframe\">\n",
       "  <thead>\n",
       "    <tr style=\"text-align: right;\">\n",
       "      <th></th>\n",
       "      <th>id_sucursal</th>\n",
       "      <th>attributes</th>\n",
       "      <th>prices</th>\n",
       "      <th>opinions</th>\n",
       "    </tr>\n",
       "  </thead>\n",
       "  <tbody>\n",
       "    <tr>\n",
       "      <th>0</th>\n",
       "      <td>0</td>\n",
       "      <td>[4.2, 450, 20 - 35 min, Gratis(nuevos usuarios)]</td>\n",
       "      <td>[$ 520,00, $ 400,00, $ 400,00, $ 400,00, $ 650...</td>\n",
       "      <td>[(Calidad de la comida, 27%), (Justo lo que pe...</td>\n",
       "    </tr>\n",
       "    <tr>\n",
       "      <th>1</th>\n",
       "      <td>1</td>\n",
       "      <td>[nan, nan, nan, Gratis(nuevos usuarios)]</td>\n",
       "      <td>[$ 177,00, $ 231,00, $ 177,00, $ 398,00, $ 362...</td>\n",
       "      <td>[]</td>\n",
       "    </tr>\n",
       "    <tr>\n",
       "      <th>2</th>\n",
       "      <td>2</td>\n",
       "      <td>[nan, nan, 23 - 38 min, Gratis(nuevos usuarios)]</td>\n",
       "      <td>[$ 1.210,00, $ 350,00, $ 510,00, $ 585,00, $ 5...</td>\n",
       "      <td>[]</td>\n",
       "    </tr>\n",
       "  </tbody>\n",
       "</table>\n",
       "</div>"
      ],
      "text/plain": [
       "   id_sucursal                                        attributes  \\\n",
       "0            0  [4.2, 450, 20 - 35 min, Gratis(nuevos usuarios)]   \n",
       "1            1          [nan, nan, nan, Gratis(nuevos usuarios)]   \n",
       "2            2  [nan, nan, 23 - 38 min, Gratis(nuevos usuarios)]   \n",
       "\n",
       "                                              prices  \\\n",
       "0  [$ 520,00, $ 400,00, $ 400,00, $ 400,00, $ 650...   \n",
       "1  [$ 177,00, $ 231,00, $ 177,00, $ 398,00, $ 362...   \n",
       "2  [$ 1.210,00, $ 350,00, $ 510,00, $ 585,00, $ 5...   \n",
       "\n",
       "                                            opinions  \n",
       "0  [(Calidad de la comida, 27%), (Justo lo que pe...  \n",
       "1                                                 []  \n",
       "2                                                 []  "
      ]
     },
     "execution_count": 4,
     "metadata": {},
     "output_type": "execute_result"
    }
   ],
   "source": [
    "# Le aplicamos la función\n",
    "atributos_sucursales_df = interpretar_bien_df(atributos_sucursales_df)\n",
    "# Veamos como queda\n",
    "atributos_sucursales_df.head(3)"
   ]
  },
  {
   "cell_type": "markdown",
   "id": "44f45634",
   "metadata": {},
   "source": [
    "Chequeamos si se produjo un error en alguna de las columnas. Esto identificando que si hubiera un error, estaría como tipo str en vez de list"
   ]
  },
  {
   "cell_type": "code",
   "execution_count": 5,
   "id": "3ed59efe",
   "metadata": {},
   "outputs": [
    {
     "name": "stdout",
     "output_type": "stream",
     "text": [
      "En la columna 'id_sucursal' NO hubo errores\n",
      "En la columna 'attributes' NO hubo errores\n",
      "En la columna 'prices' NO hubo errores\n",
      "En la columna 'opinions' NO hubo errores\n"
     ]
    }
   ],
   "source": [
    "for column in atributos_sucursales_df.columns:\n",
    "    df_con_errores = atributos_sucursales_df[atributos_sucursales_df[column].apply(lambda x:\n",
    "                                                                                   isinstance(x, str))]\n",
    "    if len(df_con_errores) == 0:\n",
    "        print(f\"En la columna '{column}' NO hubo errores\")\n",
    "    else:\n",
    "        print(f\"En la columna '{column}' SÍ hubo errores\")"
   ]
  },
  {
   "cell_type": "markdown",
   "id": "58d07541",
   "metadata": {},
   "source": [
    "Ahora debemos de reemplazar las listas vacías por NaNs para poder visualizar mejor estos datos"
   ]
  },
  {
   "cell_type": "code",
   "execution_count": 6,
   "id": "b7d7630f",
   "metadata": {},
   "outputs": [
    {
     "data": {
      "text/html": [
       "<div>\n",
       "<style scoped>\n",
       "    .dataframe tbody tr th:only-of-type {\n",
       "        vertical-align: middle;\n",
       "    }\n",
       "\n",
       "    .dataframe tbody tr th {\n",
       "        vertical-align: top;\n",
       "    }\n",
       "\n",
       "    .dataframe thead th {\n",
       "        text-align: right;\n",
       "    }\n",
       "</style>\n",
       "<table border=\"1\" class=\"dataframe\">\n",
       "  <thead>\n",
       "    <tr style=\"text-align: right;\">\n",
       "      <th></th>\n",
       "      <th>id_sucursal</th>\n",
       "      <th>attributes</th>\n",
       "      <th>prices</th>\n",
       "      <th>opinions</th>\n",
       "    </tr>\n",
       "  </thead>\n",
       "  <tbody>\n",
       "    <tr>\n",
       "      <th>29590</th>\n",
       "      <td>29590</td>\n",
       "      <td>[4.5, 355, 35 - 50 min, Gratis(nuevos usuarios)]</td>\n",
       "      <td>[$ 14.900, $ 77.900, $ 25.400, $ 18.900, $ 10....</td>\n",
       "      <td>[(Justo lo que pedí, 25%), (Calidad de la comi...</td>\n",
       "    </tr>\n",
       "    <tr>\n",
       "      <th>25791</th>\n",
       "      <td>25791</td>\n",
       "      <td>[nan, nan, 35 - 50 min, Gratis(nuevos usuarios)]</td>\n",
       "      <td>[$ 17.400, $ 11.000, $ 14.000, $ 47.800, $ 30....</td>\n",
       "      <td>NaN</td>\n",
       "    </tr>\n",
       "    <tr>\n",
       "      <th>10760</th>\n",
       "      <td>10760</td>\n",
       "      <td>[nan, nan, 35 - 50 min, Gratis(nuevos usuarios)]</td>\n",
       "      <td>[$ 222.00, $ 318.00, $ 191.00, $ 124.00, $ 126...</td>\n",
       "      <td>NaN</td>\n",
       "    </tr>\n",
       "  </tbody>\n",
       "</table>\n",
       "</div>"
      ],
      "text/plain": [
       "       id_sucursal                                        attributes  \\\n",
       "29590        29590  [4.5, 355, 35 - 50 min, Gratis(nuevos usuarios)]   \n",
       "25791        25791  [nan, nan, 35 - 50 min, Gratis(nuevos usuarios)]   \n",
       "10760        10760  [nan, nan, 35 - 50 min, Gratis(nuevos usuarios)]   \n",
       "\n",
       "                                                  prices  \\\n",
       "29590  [$ 14.900, $ 77.900, $ 25.400, $ 18.900, $ 10....   \n",
       "25791  [$ 17.400, $ 11.000, $ 14.000, $ 47.800, $ 30....   \n",
       "10760  [$ 222.00, $ 318.00, $ 191.00, $ 124.00, $ 126...   \n",
       "\n",
       "                                                opinions  \n",
       "29590  [(Justo lo que pedí, 25%), (Calidad de la comi...  \n",
       "25791                                                NaN  \n",
       "10760                                                NaN  "
      ]
     },
     "execution_count": 6,
     "metadata": {},
     "output_type": "execute_result"
    }
   ],
   "source": [
    "for column in atributos_sucursales_df.columns:\n",
    "    atributos_sucursales_df[column] = atributos_sucursales_df[column].apply(\n",
    "                                        lambda x: np.nan if x == []\n",
    "                                                else x)\n",
    "# Veamos como quedó\n",
    "atributos_sucursales_df.sample(3)"
   ]
  },
  {
   "cell_type": "markdown",
   "id": "c328580e",
   "metadata": {},
   "source": [
    "Veamos los valores nulos en nuestro dataset"
   ]
  },
  {
   "cell_type": "code",
   "execution_count": 7,
   "id": "a4ddaba7",
   "metadata": {
    "scrolled": true
   },
   "outputs": [
    {
     "data": {
      "text/plain": [
       "<AxesSubplot: >"
      ]
     },
     "execution_count": 7,
     "metadata": {},
     "output_type": "execute_result"
    },
    {
     "data": {
      "image/png": "[encoded data removed]",
      "text/plain": [
       "<Figure size 500x300 with 2 Axes>"
      ]
     },
     "metadata": {},
     "output_type": "display_data"
    }
   ],
   "source": [
    "plt.figure(figsize=(5,3))\n",
    "sns.heatmap(atributos_sucursales_df.isnull())"
   ]
  },
  {
   "cell_type": "markdown",
   "id": "d233fcbb",
   "metadata": {},
   "source": [
    "Podemos notar 2 cosas:\n",
    "<ol>\n",
    " <li>Algunos datos en *precios* son nulos. Esto se puede deber a:\n",
    "  <ul>  - Las sucursales no han publicado su catálogo de productos.</ul>\n",
    "   <ul> - O se han desabilitados algunos catálogos de algunas sucursales.</ul></li>\n",
    " <li>Opiniones tiene un montón de nulos. Este caso ya se debe a que:\n",
    "   <ul> - Las sucursales no tiene opiniones aún. (Esto podría deberse a que son nuevas).</ul>\n",
    "    <ul>- Las sucursales ya tienen opiniones pero Rappi no displaya cómo estan compuestas en específico. (Ni idea de porqué haría esto, podría ser que consideran número insuficiente de opiniones para sacar el recuadro).</ul></li>\n",
    "  </ol>  \n",
    "<p>Bien, reemplazemos estos nulos de acuerdo al caso:</p>"
   ]
  },
  {
   "cell_type": "code",
   "execution_count": 8,
   "id": "3db187e9",
   "metadata": {},
   "outputs": [],
   "source": [
    "# Para opiniones 2 cosas:\n",
    "# 1. Crearé una nueva columna con valores booleanos para usarlo como filtro después.\n",
    "atributos_sucursales_df[\"mostraba_opiniones\"] = atributos_sucursales_df[\"opinions\"].apply(\n",
    "                                        lambda x: True if type(x) is list\n",
    "                                                else False)\n",
    "# 2. Reemplazaré todas las opiniones vacías por una tupla que las represente\n",
    "atributos_sucursales_df[\"opinions\"] = atributos_sucursales_df[\"opinions\"].apply(\n",
    "                                        lambda x: x if type(x) is list\n",
    "                                                else [(\"Sin opiniones\", \"100%\")])"
   ]
  },
  {
   "cell_type": "code",
   "execution_count": 9,
   "id": "916ef569",
   "metadata": {},
   "outputs": [],
   "source": [
    "# Para prices solo reemplazaremos estas listas vacías por una mejor representación\n",
    "atributos_sucursales_df[\"prices\"] = atributos_sucursales_df[\"prices\"].apply(\n",
    "                                        lambda x: x if isinstance(x, list)\n",
    "                                                else [0])"
   ]
  },
  {
   "cell_type": "code",
   "execution_count": 10,
   "id": "0d2a7d6a",
   "metadata": {},
   "outputs": [
    {
     "data": {
      "text/plain": [
       "<AxesSubplot: >"
      ]
     },
     "execution_count": 10,
     "metadata": {},
     "output_type": "execute_result"
    },
    {
     "data": {
      "image/png": "[encoded data removed]",
      "text/plain": [
       "<Figure size 500x300 with 2 Axes>"
      ]
     },
     "metadata": {},
     "output_type": "display_data"
    }
   ],
   "source": [
    "# Chequeamos por última vez\n",
    "plt.figure(figsize=(5,3))\n",
    "sns.heatmap(atributos_sucursales_df.isnull())"
   ]
  },
  {
   "cell_type": "code",
   "execution_count": 11,
   "id": "711a75a2",
   "metadata": {},
   "outputs": [],
   "source": [
    "# Guardamos una copia de seguridad como checkpoint\n",
    "df_checkpoint_1 = atributos_sucursales_df.copy()"
   ]
  },
  {
   "cell_type": "markdown",
   "id": "b64aefc5",
   "metadata": {},
   "source": [
    "## La última batalla. Parseando atributos y normalizando opiniones"
   ]
  },
  {
   "cell_type": "markdown",
   "id": "cb2f18b2",
   "metadata": {},
   "source": [
    "Esta es la parte donde más craneo debes meter si no estás acostumbrado a crear tablas relacionales desde Python. Pero tranquilo, respira, y di conmigo: \"Amaré a Python aunque aparezcan 1000 excepciones\".\n",
    "Este es el plan:\n",
    "1) A la columna atributos la separaremos en 4 columnas: overral_stars, number_opinions, delivery_time, tipo_de_envio.\n",
    "2) A la columna prices la reduciremos a overall_price_usd. Para esto deberemos convertir cada moneda de cada país a doláres.\n",
    "3) A la columna opinions la normalizaremos en 3 tablas: pivot_tb, text_opinion_tb y percent_tb.\n",
    "---\n",
    "Esta más decir que limpiaremos y reemplazaremos muchos NaNs en el camino. Así que: \"THIS IS PYTHON\""
   ]
  },
  {
   "cell_type": "markdown",
   "id": "cb4a7c57",
   "metadata": {},
   "source": [
    "### 1. Parseando attributes"
   ]
  },
  {
   "cell_type": "code",
   "execution_count": 12,
   "id": "946626f2",
   "metadata": {},
   "outputs": [],
   "source": [
    "# Creamos las columnas en base al índice de los attributes\n",
    "nuevas_columnas = [\"overral_stars\", \"number_opinions\", \"tiempo_delivery\", \"tipo_envio\"]\n",
    "\n",
    "# Creamos las nuevas columnas en nuestro df\n",
    "for i, column in enumerate(nuevas_columnas):\n",
    "    atributos_sucursales_df[column] = atributos_sucursales_df[\"attributes\"].apply(\n",
    "                                                                                lambda x: x[i]\n",
    "                                                                                )\n",
    "# Eliminamos la vieja columna\n",
    "atributos_sucursales_df.drop([\"attributes\"], axis=1, inplace=True)"
   ]
  },
  {
   "cell_type": "code",
   "execution_count": 13,
   "id": "e9cb5de9",
   "metadata": {},
   "outputs": [],
   "source": [
    "# Ahora reemplazamos los NaNs por valores con más sentido para cada caso\n",
    "valores_reemplazo_nans = [0.0, # Como en Rappi la mínima calificación es 1. Es intuitivo decir que 0 significa sin opinión \n",
    "                          0, # Sin opiniones o 0 opiniones\n",
    "                         '0', # Sin tiempo de delivery. En string para mantener la columna en un solo tipo de dato\n",
    "                         \"No específicado\"]\n",
    "# Realizamos el reemplazo\n",
    "for i, column in enumerate(nuevas_columnas):\n",
    "    atributos_sucursales_df[column] = atributos_sucursales_df[column].replace(\n",
    "                                                                                {'nan': valores_reemplazo_nans[i]}\n",
    "                                                                                )"
   ]
  },
  {
   "cell_type": "markdown",
   "id": "d9227301",
   "metadata": {},
   "source": [
    "Como Rappi también trabaja con Brazil, para las columnas que sean naturalmente texto (*opinions* y *tipo_envio*) tendremos que reemplazar cada frase en portugués por su contraparte en español. Empecemos con la segunda."
   ]
  },
  {
   "cell_type": "code",
   "execution_count": 14,
   "id": "b821babd",
   "metadata": {},
   "outputs": [
    {
     "data": {
      "text/plain": [
       "array(['Gratis(nuevos usuarios)', 'No específicado',\n",
       "       'Grátis(novos usuários)'], dtype=object)"
      ]
     },
     "execution_count": 14,
     "metadata": {},
     "output_type": "execute_result"
    }
   ],
   "source": [
    "# Chequeamos que valores tiene esta columna\n",
    "atributos_sucursales_df[\"tipo_envio\"].unique()"
   ]
  },
  {
   "cell_type": "code",
   "execution_count": 15,
   "id": "e9b94e62",
   "metadata": {},
   "outputs": [],
   "source": [
    "# Reemplazamos los valores en portugués por español\n",
    "atributos_sucursales_df[\"tipo_envio\"] = atributos_sucursales_df[\"tipo_envio\"].apply(lambda x:\n",
    "                                                                                'Gratis (nuevos usuarios)'\n",
    "                                                                                   if (x == \"Grátis(novos usuários)\" or  x == \"Gratis(nuevos usuarios)\")\n",
    "                                                                                   else x)"
   ]
  },
  {
   "cell_type": "code",
   "execution_count": 16,
   "id": "ed71f538",
   "metadata": {
    "scrolled": true
   },
   "outputs": [
    {
     "data": {
      "text/plain": [
       "array(['Gratis (nuevos usuarios)', 'No específicado'], dtype=object)"
      ]
     },
     "execution_count": 16,
     "metadata": {},
     "output_type": "execute_result"
    }
   ],
   "source": [
    "# Chequamos\n",
    "atributos_sucursales_df[\"tipo_envio\"].unique()"
   ]
  },
  {
   "cell_type": "markdown",
   "id": "a779e4dc",
   "metadata": {},
   "source": [
    "Cool, todo bien, continuemos."
   ]
  },
  {
   "cell_type": "code",
   "execution_count": 17,
   "id": "3162fa76",
   "metadata": {},
   "outputs": [
    {
     "data": {
      "text/html": [
       "<div>\n",
       "<style scoped>\n",
       "    .dataframe tbody tr th:only-of-type {\n",
       "        vertical-align: middle;\n",
       "    }\n",
       "\n",
       "    .dataframe tbody tr th {\n",
       "        vertical-align: top;\n",
       "    }\n",
       "\n",
       "    .dataframe thead th {\n",
       "        text-align: right;\n",
       "    }\n",
       "</style>\n",
       "<table border=\"1\" class=\"dataframe\">\n",
       "  <thead>\n",
       "    <tr style=\"text-align: right;\">\n",
       "      <th></th>\n",
       "      <th>id_sucursal</th>\n",
       "      <th>prices</th>\n",
       "      <th>opinions</th>\n",
       "      <th>mostraba_opiniones</th>\n",
       "      <th>overral_stars</th>\n",
       "      <th>number_opinions</th>\n",
       "      <th>tiempo_delivery</th>\n",
       "      <th>tipo_envio</th>\n",
       "    </tr>\n",
       "  </thead>\n",
       "  <tbody>\n",
       "    <tr>\n",
       "      <th>0</th>\n",
       "      <td>0</td>\n",
       "      <td>[$ 520,00, $ 400,00, $ 400,00, $ 400,00, $ 650...</td>\n",
       "      <td>[(Calidad de la comida, 27%), (Justo lo que pe...</td>\n",
       "      <td>True</td>\n",
       "      <td>4.2</td>\n",
       "      <td>450</td>\n",
       "      <td>20 - 35 min</td>\n",
       "      <td>Gratis (nuevos usuarios)</td>\n",
       "    </tr>\n",
       "    <tr>\n",
       "      <th>1</th>\n",
       "      <td>1</td>\n",
       "      <td>[$ 177,00, $ 231,00, $ 177,00, $ 398,00, $ 362...</td>\n",
       "      <td>[(Sin opiniones, 100%)]</td>\n",
       "      <td>False</td>\n",
       "      <td>0.0</td>\n",
       "      <td>0</td>\n",
       "      <td>0</td>\n",
       "      <td>Gratis (nuevos usuarios)</td>\n",
       "    </tr>\n",
       "  </tbody>\n",
       "</table>\n",
       "</div>"
      ],
      "text/plain": [
       "   id_sucursal                                             prices  \\\n",
       "0            0  [$ 520,00, $ 400,00, $ 400,00, $ 400,00, $ 650...   \n",
       "1            1  [$ 177,00, $ 231,00, $ 177,00, $ 398,00, $ 362...   \n",
       "\n",
       "                                            opinions  mostraba_opiniones  \\\n",
       "0  [(Calidad de la comida, 27%), (Justo lo que pe...                True   \n",
       "1                            [(Sin opiniones, 100%)]               False   \n",
       "\n",
       "  overral_stars  number_opinions tiempo_delivery                tipo_envio  \n",
       "0           4.2              450     20 - 35 min  Gratis (nuevos usuarios)  \n",
       "1           0.0                0               0  Gratis (nuevos usuarios)  "
      ]
     },
     "execution_count": 17,
     "metadata": {},
     "output_type": "execute_result"
    }
   ],
   "source": [
    "# Veamos como va quedando\n",
    "atributos_sucursales_df.head(2)"
   ]
  },
  {
   "cell_type": "code",
   "execution_count": 18,
   "id": "3c98ba9d",
   "metadata": {},
   "outputs": [],
   "source": [
    "# Ordenamos el df\n",
    "atributos_sucursales_df = atributos_sucursales_df.sort_values(\"id_sucursal\")\n",
    "# Guardamos nuestro avance\n",
    "df_checkpoint_2 = atributos_sucursales_df.copy()"
   ]
  },
  {
   "cell_type": "markdown",
   "id": "4945257d",
   "metadata": {},
   "source": [
    "### Parseando tiempo_delivery\n",
    "Este parseo es sencillo, solo vamos a sacar el mínimo y máximo de los rangos de tiempo de delivery por cada sucursal.\n",
    "\n",
    "Para las sucursales que dan un número fijo en lugar de un rango de tiempo vamos a usar este número tanto como máximo y como mínimo, de esta manera no se pierde información entre las distintas sucursales."
   ]
  },
  {
   "cell_type": "code",
   "execution_count": 19,
   "id": "b7e1dec7",
   "metadata": {},
   "outputs": [
    {
     "name": "stderr",
     "output_type": "stream",
     "text": [
      "C:\\Users\\augus\\AppData\\Local\\Temp\\ipykernel_9672\\3056415513.py:5: FutureWarning: iteritems is deprecated and will be removed in a future version. Use .items instead.\n",
      "  for index, value in atributos_sucursales_df[\"tiempo_delivery\"].iteritems():\n"
     ]
    }
   ],
   "source": [
    "# Dividir en 2 mínimo y máximo el rango de tiempo de delivery.\n",
    "atributos_sucursales_df['min_tiempo_delivery'] = 0\n",
    "atributos_sucursales_df['max_tiempo_delivery'] = 0\n",
    "\n",
    "for index, value in atributos_sucursales_df[\"tiempo_delivery\"].iteritems():\n",
    "    if ' - ' in value:\n",
    "        # Split on ' - ' and extract the numbers\n",
    "        min_time, max_time = value.split(' - ')\n",
    "        atributos_sucursales_df.at[index, 'min_tiempo_delivery'] = int(min_time.split()[0])\n",
    "        atributos_sucursales_df.at[index, 'max_tiempo_delivery'] = int(max_time.split()[0])\n",
    "    else:\n",
    "        # Extract single value and assign it to both columns\n",
    "        delivery_time = int(value.split()[0])\n",
    "        atributos_sucursales_df.at[index, 'min_tiempo_delivery'] = delivery_time\n",
    "        atributos_sucursales_df.at[index, 'max_tiempo_delivery'] = delivery_time"
   ]
  },
  {
   "cell_type": "code",
   "execution_count": 20,
   "id": "6e7fb71a",
   "metadata": {},
   "outputs": [
    {
     "data": {
      "text/html": [
       "<div>\n",
       "<style scoped>\n",
       "    .dataframe tbody tr th:only-of-type {\n",
       "        vertical-align: middle;\n",
       "    }\n",
       "\n",
       "    .dataframe tbody tr th {\n",
       "        vertical-align: top;\n",
       "    }\n",
       "\n",
       "    .dataframe thead th {\n",
       "        text-align: right;\n",
       "    }\n",
       "</style>\n",
       "<table border=\"1\" class=\"dataframe\">\n",
       "  <thead>\n",
       "    <tr style=\"text-align: right;\">\n",
       "      <th></th>\n",
       "      <th>id_sucursal</th>\n",
       "      <th>prices</th>\n",
       "      <th>opinions</th>\n",
       "      <th>mostraba_opiniones</th>\n",
       "      <th>overral_stars</th>\n",
       "      <th>number_opinions</th>\n",
       "      <th>tipo_envio</th>\n",
       "      <th>min_tiempo_delivery</th>\n",
       "      <th>max_tiempo_delivery</th>\n",
       "    </tr>\n",
       "  </thead>\n",
       "  <tbody>\n",
       "    <tr>\n",
       "      <th>12118</th>\n",
       "      <td>12118</td>\n",
       "      <td>[$ 52.66, $ 79.00, $ 315.00, $ 398.00, $ 349.0...</td>\n",
       "      <td>[(Tal como lo pedí, 25%), (Calidad de la comid...</td>\n",
       "      <td>True</td>\n",
       "      <td>4.6</td>\n",
       "      <td>83</td>\n",
       "      <td>Gratis (nuevos usuarios)</td>\n",
       "      <td>35</td>\n",
       "      <td>50</td>\n",
       "    </tr>\n",
       "    <tr>\n",
       "      <th>31838</th>\n",
       "      <td>31838</td>\n",
       "      <td>[$ 15.000, $ 11.000, $ 9.990, $ 15.000, $ 22.0...</td>\n",
       "      <td>[(Sin opiniones, 100%)]</td>\n",
       "      <td>False</td>\n",
       "      <td>0.0</td>\n",
       "      <td>0</td>\n",
       "      <td>Gratis (nuevos usuarios)</td>\n",
       "      <td>0</td>\n",
       "      <td>0</td>\n",
       "    </tr>\n",
       "    <tr>\n",
       "      <th>8721</th>\n",
       "      <td>8721</td>\n",
       "      <td>[$ 174.30, $ 418.00, $ 199.00, $ 399.00, $ 99....</td>\n",
       "      <td>[(Justo lo que pedí, 17%), (Pésima calidad, 11...</td>\n",
       "      <td>True</td>\n",
       "      <td>4.1</td>\n",
       "      <td>46</td>\n",
       "      <td>Gratis (nuevos usuarios)</td>\n",
       "      <td>35</td>\n",
       "      <td>50</td>\n",
       "    </tr>\n",
       "  </tbody>\n",
       "</table>\n",
       "</div>"
      ],
      "text/plain": [
       "       id_sucursal                                             prices  \\\n",
       "12118        12118  [$ 52.66, $ 79.00, $ 315.00, $ 398.00, $ 349.0...   \n",
       "31838        31838  [$ 15.000, $ 11.000, $ 9.990, $ 15.000, $ 22.0...   \n",
       "8721          8721  [$ 174.30, $ 418.00, $ 199.00, $ 399.00, $ 99....   \n",
       "\n",
       "                                                opinions  mostraba_opiniones  \\\n",
       "12118  [(Tal como lo pedí, 25%), (Calidad de la comid...                True   \n",
       "31838                            [(Sin opiniones, 100%)]               False   \n",
       "8721   [(Justo lo que pedí, 17%), (Pésima calidad, 11...                True   \n",
       "\n",
       "      overral_stars  number_opinions                tipo_envio  \\\n",
       "12118           4.6               83  Gratis (nuevos usuarios)   \n",
       "31838           0.0                0  Gratis (nuevos usuarios)   \n",
       "8721            4.1               46  Gratis (nuevos usuarios)   \n",
       "\n",
       "       min_tiempo_delivery  max_tiempo_delivery  \n",
       "12118                   35                   50  \n",
       "31838                    0                    0  \n",
       "8721                    35                   50  "
      ]
     },
     "execution_count": 20,
     "metadata": {},
     "output_type": "execute_result"
    }
   ],
   "source": [
    "# Now we can get rid off 'tiempo_delivery' column\n",
    "atributos_sucursales_df.drop(columns=['tiempo_delivery'], inplace=True)\n",
    "\n",
    "# Let's take a look!\n",
    "atributos_sucursales_df.sample(3)"
   ]
  },
  {
   "cell_type": "code",
   "execution_count": 22,
   "id": "81fe8e09",
   "metadata": {},
   "outputs": [],
   "source": [
    "# Guardamos nuestro avance\n",
    "df_checkpoint_3 = atributos_sucursales_df.copy()"
   ]
  },
  {
   "cell_type": "markdown",
   "id": "11a5b70a",
   "metadata": {},
   "source": [
    "### 2. Normalizando prices"
   ]
  },
  {
   "cell_type": "markdown",
   "id": "bfcbd407",
   "metadata": {},
   "source": [
    "Cada país tiene una manera única de representar centavos. En Perú los centavos son después del punto, en México es después la coma. Otras diferencias se pueden notar en los demás países, pero, para efectos prácticos, vamos representar las monedas como un float en Python (los centavos después del punto)."
   ]
  },
  {
   "cell_type": "markdown",
   "id": "5daa8536",
   "metadata": {},
   "source": [
    "Para esta solución se usa un regex que:\n",
    "1) Analiza el caso de cada moneda.\n",
    "2) Saque su conversión a doláres.\n",
    "3) Clasifique las monedas en 2 grupos (El grupo 1 (donde los céntimos son los primeros digitos de izquierda a derecha separados un '.' o una ',') y el grupo 2 (donde no existen los céntimos).\n",
    "4) Creé una expresión regular que, en base a sus grupos, parsea las monedas como flotantes de Python.\n",
    "-----\n",
    "Para comenzar a separar las monedas en grupos, obtengamos los id_pais de cada row."
   ]
  },
  {
   "cell_type": "code",
   "execution_count": 49,
   "id": "67c32cce",
   "metadata": {},
   "outputs": [
    {
     "data": {
      "text/html": [
       "<div>\n",
       "<style scoped>\n",
       "    .dataframe tbody tr th:only-of-type {\n",
       "        vertical-align: middle;\n",
       "    }\n",
       "\n",
       "    .dataframe tbody tr th {\n",
       "        vertical-align: top;\n",
       "    }\n",
       "\n",
       "    .dataframe thead th {\n",
       "        text-align: right;\n",
       "    }\n",
       "</style>\n",
       "<table border=\"1\" class=\"dataframe\">\n",
       "  <thead>\n",
       "    <tr style=\"text-align: right;\">\n",
       "      <th></th>\n",
       "      <th>id_sucursal</th>\n",
       "      <th>prices</th>\n",
       "      <th>opinions</th>\n",
       "      <th>mostraba_opiniones</th>\n",
       "      <th>overral_stars</th>\n",
       "      <th>number_opinions</th>\n",
       "      <th>tipo_envio</th>\n",
       "      <th>min_tiempo_delivery</th>\n",
       "      <th>max_tiempo_delivery</th>\n",
       "      <th>id_cadena</th>\n",
       "      <th>url_sucursal</th>\n",
       "      <th>nombre_sucursal</th>\n",
       "      <th>direccion_sucursal</th>\n",
       "      <th>nombre_cadena</th>\n",
       "      <th>url_cadena</th>\n",
       "      <th>id_pais</th>\n",
       "    </tr>\n",
       "  </thead>\n",
       "  <tbody>\n",
       "    <tr>\n",
       "      <th>0</th>\n",
       "      <td>0</td>\n",
       "      <td>[$ 520,00, $ 400,00, $ 400,00, $ 400,00, $ 650...</td>\n",
       "      <td>[(Calidad de la comida, 27%), (Justo lo que pe...</td>\n",
       "      <td>True</td>\n",
       "      <td>4.2</td>\n",
       "      <td>450</td>\n",
       "      <td>Gratis (nuevos usuarios)</td>\n",
       "      <td>20</td>\n",
       "      <td>35</td>\n",
       "      <td>0</td>\n",
       "      <td>https://www.rappi.com.uy/restaurantes/113198-z...</td>\n",
       "      <td>Zoubar</td>\n",
       "      <td>8 de Octubre 2698</td>\n",
       "      <td>Zoubar</td>\n",
       "      <td>https://www.rappi.com.uy/restaurantes/delivery...</td>\n",
       "      <td>8</td>\n",
       "    </tr>\n",
       "    <tr>\n",
       "      <th>1</th>\n",
       "      <td>1</td>\n",
       "      <td>[$ 177,00, $ 231,00, $ 177,00, $ 398,00, $ 362...</td>\n",
       "      <td>[(Sin opiniones, 100%)]</td>\n",
       "      <td>False</td>\n",
       "      <td>0.0</td>\n",
       "      <td>0</td>\n",
       "      <td>Gratis (nuevos usuarios)</td>\n",
       "      <td>0</td>\n",
       "      <td>0</td>\n",
       "      <td>1</td>\n",
       "      <td>https://www.rappi.com.uy/restaurantes/120305-y...</td>\n",
       "      <td>Yuppy Burger</td>\n",
       "      <td>Colonia 1779, Montevideo, Departamento de Mont...</td>\n",
       "      <td>Yuppy Burger</td>\n",
       "      <td>https://www.rappi.com.uy/restaurantes/delivery...</td>\n",
       "      <td>8</td>\n",
       "    </tr>\n",
       "    <tr>\n",
       "      <th>2</th>\n",
       "      <td>2</td>\n",
       "      <td>[$ 1.210,00, $ 350,00, $ 510,00, $ 585,00, $ 5...</td>\n",
       "      <td>[(Sin opiniones, 100%)]</td>\n",
       "      <td>False</td>\n",
       "      <td>0.0</td>\n",
       "      <td>0</td>\n",
       "      <td>Gratis (nuevos usuarios)</td>\n",
       "      <td>23</td>\n",
       "      <td>38</td>\n",
       "      <td>2</td>\n",
       "      <td>https://www.rappi.com.uy/restaurantes/119128-w...</td>\n",
       "      <td>Wok in Box - Williman</td>\n",
       "      <td>Claudio Williman 626, 11300 Montevideo, Depart...</td>\n",
       "      <td>Wok in Box</td>\n",
       "      <td>https://www.rappi.com.uy/restaurantes/delivery...</td>\n",
       "      <td>8</td>\n",
       "    </tr>\n",
       "  </tbody>\n",
       "</table>\n",
       "</div>"
      ],
      "text/plain": [
       "   id_sucursal                                             prices  \\\n",
       "0            0  [$ 520,00, $ 400,00, $ 400,00, $ 400,00, $ 650...   \n",
       "1            1  [$ 177,00, $ 231,00, $ 177,00, $ 398,00, $ 362...   \n",
       "2            2  [$ 1.210,00, $ 350,00, $ 510,00, $ 585,00, $ 5...   \n",
       "\n",
       "                                            opinions  mostraba_opiniones  \\\n",
       "0  [(Calidad de la comida, 27%), (Justo lo que pe...                True   \n",
       "1                            [(Sin opiniones, 100%)]               False   \n",
       "2                            [(Sin opiniones, 100%)]               False   \n",
       "\n",
       "  overral_stars  number_opinions                tipo_envio  \\\n",
       "0           4.2              450  Gratis (nuevos usuarios)   \n",
       "1           0.0                0  Gratis (nuevos usuarios)   \n",
       "2           0.0                0  Gratis (nuevos usuarios)   \n",
       "\n",
       "   min_tiempo_delivery  max_tiempo_delivery  id_cadena  \\\n",
       "0                   20                   35          0   \n",
       "1                    0                    0          1   \n",
       "2                   23                   38          2   \n",
       "\n",
       "                                        url_sucursal        nombre_sucursal  \\\n",
       "0  https://www.rappi.com.uy/restaurantes/113198-z...                 Zoubar   \n",
       "1  https://www.rappi.com.uy/restaurantes/120305-y...           Yuppy Burger   \n",
       "2  https://www.rappi.com.uy/restaurantes/119128-w...  Wok in Box - Williman   \n",
       "\n",
       "                                  direccion_sucursal nombre_cadena  \\\n",
       "0                                 8 de Octubre 2698         Zoubar   \n",
       "1  Colonia 1779, Montevideo, Departamento de Mont...  Yuppy Burger   \n",
       "2  Claudio Williman 626, 11300 Montevideo, Depart...    Wok in Box   \n",
       "\n",
       "                                          url_cadena  id_pais  \n",
       "0  https://www.rappi.com.uy/restaurantes/delivery...        8  \n",
       "1  https://www.rappi.com.uy/restaurantes/delivery...        8  \n",
       "2  https://www.rappi.com.uy/restaurantes/delivery...        8  "
      ]
     },
     "execution_count": 49,
     "metadata": {},
     "output_type": "execute_result"
    }
   ],
   "source": [
    "# Importamos los dfs\n",
    "cadenas_restaurantes_df = pd.read_csv(\"cadenas_restaurantes.csv\") \n",
    "sucursales_df = pd.read_csv(\"sucursales_bruto.csv\")\n",
    "# Realizamos un join y nos quedamos con el id del país y de la sucursal\n",
    "df_merged = sucursales_df.merge(cadenas_restaurantes_df, on=\"id_cadena\", how='inner')\n",
    "# Hacemos un merge de este último df con el atributos para conseguir el id_pais aquí\n",
    "atributos_sucursales_df = atributos_sucursales_df.merge(df_merged, on =\"id_sucursal\", how='inner')\n",
    "\n",
    "# Let's take a look\n",
    "atributos_sucursales_df.head(3)"
   ]
  },
  {
   "cell_type": "markdown",
   "id": "2c1854ea",
   "metadata": {},
   "source": [
    "Bien. Todo perfecto, ahora sí veamos esas expresiones regulares."
   ]
  },
  {
   "cell_type": "code",
   "execution_count": 50,
   "id": "9e23e570",
   "metadata": {},
   "outputs": [
    {
     "data": {
      "text/html": [
       "<div>\n",
       "<style scoped>\n",
       "    .dataframe tbody tr th:only-of-type {\n",
       "        vertical-align: middle;\n",
       "    }\n",
       "\n",
       "    .dataframe tbody tr th {\n",
       "        vertical-align: top;\n",
       "    }\n",
       "\n",
       "    .dataframe thead th {\n",
       "        text-align: right;\n",
       "    }\n",
       "</style>\n",
       "<table border=\"1\" class=\"dataframe\">\n",
       "  <thead>\n",
       "    <tr style=\"text-align: right;\">\n",
       "      <th></th>\n",
       "      <th>id_sucursal</th>\n",
       "      <th>prices</th>\n",
       "      <th>opinions</th>\n",
       "      <th>mostraba_opiniones</th>\n",
       "      <th>overral_stars</th>\n",
       "      <th>number_opinions</th>\n",
       "      <th>tipo_envio</th>\n",
       "      <th>min_tiempo_delivery</th>\n",
       "      <th>max_tiempo_delivery</th>\n",
       "      <th>id_cadena</th>\n",
       "      <th>url_sucursal</th>\n",
       "      <th>nombre_sucursal</th>\n",
       "      <th>direccion_sucursal</th>\n",
       "    </tr>\n",
       "  </thead>\n",
       "  <tbody>\n",
       "    <tr>\n",
       "      <th>0</th>\n",
       "      <td>0</td>\n",
       "      <td>[520.0, 400.0, 400.0, 400.0, 650.0, 495.0, 630...</td>\n",
       "      <td>[(Calidad de la comida, 27%), (Justo lo que pe...</td>\n",
       "      <td>True</td>\n",
       "      <td>4.2</td>\n",
       "      <td>450</td>\n",
       "      <td>Gratis (nuevos usuarios)</td>\n",
       "      <td>20</td>\n",
       "      <td>35</td>\n",
       "      <td>0</td>\n",
       "      <td>https://www.rappi.com.uy/restaurantes/113198-z...</td>\n",
       "      <td>Zoubar</td>\n",
       "      <td>8 de Octubre 2698</td>\n",
       "    </tr>\n",
       "    <tr>\n",
       "      <th>1</th>\n",
       "      <td>1</td>\n",
       "      <td>[177.0, 231.0, 177.0, 398.0, 362.0, 467.0, 572...</td>\n",
       "      <td>[(Sin opiniones, 100%)]</td>\n",
       "      <td>False</td>\n",
       "      <td>0.0</td>\n",
       "      <td>0</td>\n",
       "      <td>Gratis (nuevos usuarios)</td>\n",
       "      <td>0</td>\n",
       "      <td>0</td>\n",
       "      <td>1</td>\n",
       "      <td>https://www.rappi.com.uy/restaurantes/120305-y...</td>\n",
       "      <td>Yuppy Burger</td>\n",
       "      <td>Colonia 1779, Montevideo, Departamento de Mont...</td>\n",
       "    </tr>\n",
       "    <tr>\n",
       "      <th>2</th>\n",
       "      <td>2</td>\n",
       "      <td>[1210.0, 350.0, 510.0, 585.0, 585.0, 630.0, 63...</td>\n",
       "      <td>[(Sin opiniones, 100%)]</td>\n",
       "      <td>False</td>\n",
       "      <td>0.0</td>\n",
       "      <td>0</td>\n",
       "      <td>Gratis (nuevos usuarios)</td>\n",
       "      <td>23</td>\n",
       "      <td>38</td>\n",
       "      <td>2</td>\n",
       "      <td>https://www.rappi.com.uy/restaurantes/119128-w...</td>\n",
       "      <td>Wok in Box - Williman</td>\n",
       "      <td>Claudio Williman 626, 11300 Montevideo, Depart...</td>\n",
       "    </tr>\n",
       "  </tbody>\n",
       "</table>\n",
       "</div>"
      ],
      "text/plain": [
       "   id_sucursal                                             prices  \\\n",
       "0            0  [520.0, 400.0, 400.0, 400.0, 650.0, 495.0, 630...   \n",
       "1            1  [177.0, 231.0, 177.0, 398.0, 362.0, 467.0, 572...   \n",
       "2            2  [1210.0, 350.0, 510.0, 585.0, 585.0, 630.0, 63...   \n",
       "\n",
       "                                            opinions  mostraba_opiniones  \\\n",
       "0  [(Calidad de la comida, 27%), (Justo lo que pe...                True   \n",
       "1                            [(Sin opiniones, 100%)]               False   \n",
       "2                            [(Sin opiniones, 100%)]               False   \n",
       "\n",
       "  overral_stars  number_opinions                tipo_envio  \\\n",
       "0           4.2              450  Gratis (nuevos usuarios)   \n",
       "1           0.0                0  Gratis (nuevos usuarios)   \n",
       "2           0.0                0  Gratis (nuevos usuarios)   \n",
       "\n",
       "   min_tiempo_delivery  max_tiempo_delivery  id_cadena  \\\n",
       "0                   20                   35          0   \n",
       "1                    0                    0          1   \n",
       "2                   23                   38          2   \n",
       "\n",
       "                                        url_sucursal        nombre_sucursal  \\\n",
       "0  https://www.rappi.com.uy/restaurantes/113198-z...                 Zoubar   \n",
       "1  https://www.rappi.com.uy/restaurantes/120305-y...           Yuppy Burger   \n",
       "2  https://www.rappi.com.uy/restaurantes/119128-w...  Wok in Box - Williman   \n",
       "\n",
       "                                  direccion_sucursal  \n",
       "0                                 8 de Octubre 2698   \n",
       "1  Colonia 1779, Montevideo, Departamento de Mont...  \n",
       "2  Claudio Williman 626, 11300 Montevideo, Depart...  "
      ]
     },
     "execution_count": 50,
     "metadata": {},
     "output_type": "execute_result"
    }
   ],
   "source": [
    "def currency_parser(currency_string: str, id_pais: int) -> float:\n",
    "    # To show what each step does, we are gonna start with 4 examples: '₡ 17.990,00', '$ 108.00', 'S/ 28.60', 'R$ 49,99'\n",
    "    # Be sure this is a valid string\n",
    "    if (currency_string == 0) or (currency_string == '0') or (currency_string == ''):\n",
    "        return 0.0\n",
    "    \n",
    "    # Get rid off any unuseful characters\n",
    "    string_without_special_chars = re.sub('[$]|[R]|[₡]|[S/]|[\\s]', '', currency_string) # In our examples: '17.990,00', '49,99', '108.00', '28.60'\n",
    "\n",
    "    if id_pais in (6 ,7): # México o Perú. In our examples would be: '108.00', '28.60'\n",
    "        string_parsed = string_without_special_chars.replace(',', '')\n",
    "        \n",
    "    else: # In our examples would be: '17.990,00', '49,99'\n",
    "        string_parsed = string_without_special_chars.replace('.', '')\n",
    "        string_parsed = string_parsed.replace(',', '.')\n",
    "    \n",
    "    return float(string_parsed)\n",
    "\n",
    "def parse_prices(row):\n",
    "    return [currency_parser(price, row['id_pais']) for price in row['prices']]\n",
    "\n",
    "# Apply the function to each value in the lists\n",
    "atributos_sucursales_df['prices'] = atributos_sucursales_df.apply(parse_prices, axis=1)\n",
    "\n",
    "# Now that don't need 'id_pais', we can get rid off some columns that are already included in other csv's\n",
    "atributos_sucursales_df.drop(columns=['nombre_cadena', 'url_cadena', 'id_pais'], inplace=True)\n",
    "\n",
    "# Let's take a look\n",
    "atributos_sucursales_df.head(3)"
   ]
  },
  {
   "cell_type": "code",
   "execution_count": 51,
   "id": "3364f2ef",
   "metadata": {},
   "outputs": [
    {
     "data": {
      "text/html": [
       "<div>\n",
       "<style scoped>\n",
       "    .dataframe tbody tr th:only-of-type {\n",
       "        vertical-align: middle;\n",
       "    }\n",
       "\n",
       "    .dataframe tbody tr th {\n",
       "        vertical-align: top;\n",
       "    }\n",
       "\n",
       "    .dataframe thead th {\n",
       "        text-align: right;\n",
       "    }\n",
       "</style>\n",
       "<table border=\"1\" class=\"dataframe\">\n",
       "  <thead>\n",
       "    <tr style=\"text-align: right;\">\n",
       "      <th></th>\n",
       "      <th>id_sucursal</th>\n",
       "      <th>prices</th>\n",
       "      <th>num_products</th>\n",
       "    </tr>\n",
       "  </thead>\n",
       "  <tbody>\n",
       "    <tr>\n",
       "      <th>0</th>\n",
       "      <td>0</td>\n",
       "      <td>84.0</td>\n",
       "      <td>1</td>\n",
       "    </tr>\n",
       "    <tr>\n",
       "      <th>1</th>\n",
       "      <td>0</td>\n",
       "      <td>85.0</td>\n",
       "      <td>1</td>\n",
       "    </tr>\n",
       "    <tr>\n",
       "      <th>2</th>\n",
       "      <td>0</td>\n",
       "      <td>90.0</td>\n",
       "      <td>1</td>\n",
       "    </tr>\n",
       "    <tr>\n",
       "      <th>3</th>\n",
       "      <td>0</td>\n",
       "      <td>140.0</td>\n",
       "      <td>2</td>\n",
       "    </tr>\n",
       "    <tr>\n",
       "      <th>4</th>\n",
       "      <td>0</td>\n",
       "      <td>145.0</td>\n",
       "      <td>3</td>\n",
       "    </tr>\n",
       "    <tr>\n",
       "      <th>5</th>\n",
       "      <td>0</td>\n",
       "      <td>150.0</td>\n",
       "      <td>1</td>\n",
       "    </tr>\n",
       "    <tr>\n",
       "      <th>6</th>\n",
       "      <td>0</td>\n",
       "      <td>165.0</td>\n",
       "      <td>1</td>\n",
       "    </tr>\n",
       "    <tr>\n",
       "      <th>7</th>\n",
       "      <td>0</td>\n",
       "      <td>175.0</td>\n",
       "      <td>3</td>\n",
       "    </tr>\n",
       "    <tr>\n",
       "      <th>8</th>\n",
       "      <td>0</td>\n",
       "      <td>180.0</td>\n",
       "      <td>1</td>\n",
       "    </tr>\n",
       "    <tr>\n",
       "      <th>9</th>\n",
       "      <td>0</td>\n",
       "      <td>200.0</td>\n",
       "      <td>6</td>\n",
       "    </tr>\n",
       "  </tbody>\n",
       "</table>\n",
       "</div>"
      ],
      "text/plain": [
       "   id_sucursal  prices  num_products\n",
       "0            0    84.0             1\n",
       "1            0    85.0             1\n",
       "2            0    90.0             1\n",
       "3            0   140.0             2\n",
       "4            0   145.0             3\n",
       "5            0   150.0             1\n",
       "6            0   165.0             1\n",
       "7            0   175.0             3\n",
       "8            0   180.0             1\n",
       "9            0   200.0             6"
      ]
     },
     "execution_count": 51,
     "metadata": {},
     "output_type": "execute_result"
    }
   ],
   "source": [
    "# We are gonna use those prices and normalize them into a another table. This will help Power BI load faster our data\n",
    "prices_per_sucursal_df = atributos_sucursales_df[['id_sucursal', 'prices']].copy()\n",
    "\n",
    "# Use explode to expand lists in 'prices' column into separate rows\n",
    "df_exploded = prices_per_sucursal_df.explode('prices', ignore_index=True)\n",
    "\n",
    "# Now we use aggregate the information to reduce the number of rows\n",
    "df_counts = df_exploded.groupby(['id_sucursal', 'prices']).size().reset_index(name='num_products')\n",
    "\n",
    "# Let's take a look\n",
    "df_counts.head(10)"
   ]
  },
  {
   "cell_type": "code",
   "execution_count": 52,
   "id": "1c66a40e",
   "metadata": {},
   "outputs": [],
   "source": [
    "# Now that we saved the information, can get rid off column 'prices'\n",
    "atributos_sucursales_df.drop(columns=['prices'], inplace=True)\n",
    "\n",
    "# Let's save it into a .csv\n",
    "df_counts.to_csv('prices_per_sucursal.csv', index=False)\n",
    "\n",
    "# Guardamos nuestro avance\n",
    "df_checkpoint_4 = atributos_sucursales_df.copy()"
   ]
  },
  {
   "cell_type": "markdown",
   "id": "86004ddf",
   "metadata": {},
   "source": [
    "### 3. Normalizando opinions"
   ]
  },
  {
   "cell_type": "markdown",
   "id": "abb51685",
   "metadata": {},
   "source": [
    "Todo este proyecto ha demorado tiempo. Y va a llevar más. (para que engañarnos xD). Ahora toca estandarizar la columna opiniones, pasar todo lo que está en portugués a español y crearle una tabla propia para evitar hacer más pesado el archivo."
   ]
  },
  {
   "cell_type": "markdown",
   "id": "5f9ee49f",
   "metadata": {},
   "source": [
    "Con este propósito, dividimos el df en los países de habla hispana y Brazil, cada uno con su propio df."
   ]
  },
  {
   "cell_type": "code",
   "execution_count": 53,
   "id": "6ca7b80a",
   "metadata": {},
   "outputs": [
    {
     "data": {
      "text/html": [
       "<div>\n",
       "<style scoped>\n",
       "    .dataframe tbody tr th:only-of-type {\n",
       "        vertical-align: middle;\n",
       "    }\n",
       "\n",
       "    .dataframe tbody tr th {\n",
       "        vertical-align: top;\n",
       "    }\n",
       "\n",
       "    .dataframe thead th {\n",
       "        text-align: right;\n",
       "    }\n",
       "</style>\n",
       "<table border=\"1\" class=\"dataframe\">\n",
       "  <thead>\n",
       "    <tr style=\"text-align: right;\">\n",
       "      <th></th>\n",
       "      <th>id_sucursal</th>\n",
       "      <th>opinion</th>\n",
       "      <th>value</th>\n",
       "    </tr>\n",
       "  </thead>\n",
       "  <tbody>\n",
       "    <tr>\n",
       "      <th>0</th>\n",
       "      <td>0</td>\n",
       "      <td>Calidad de la comida</td>\n",
       "      <td>0.27</td>\n",
       "    </tr>\n",
       "    <tr>\n",
       "      <th>1</th>\n",
       "      <td>0</td>\n",
       "      <td>Justo lo que pedí</td>\n",
       "      <td>0.14</td>\n",
       "    </tr>\n",
       "    <tr>\n",
       "      <th>2</th>\n",
       "      <td>0</td>\n",
       "      <td>Tal como lo pedí</td>\n",
       "      <td>0.12</td>\n",
       "    </tr>\n",
       "    <tr>\n",
       "      <th>3</th>\n",
       "      <td>0</td>\n",
       "      <td>Pésima calidad</td>\n",
       "      <td>0.06</td>\n",
       "    </tr>\n",
       "    <tr>\n",
       "      <th>4</th>\n",
       "      <td>0</td>\n",
       "      <td>Mala calidad</td>\n",
       "      <td>0.06</td>\n",
       "    </tr>\n",
       "  </tbody>\n",
       "</table>\n",
       "</div>"
      ],
      "text/plain": [
       "   id_sucursal               opinion  value\n",
       "0            0  Calidad de la comida   0.27\n",
       "1            0     Justo lo que pedí   0.14\n",
       "2            0      Tal como lo pedí   0.12\n",
       "3            0        Pésima calidad   0.06\n",
       "4            0          Mala calidad   0.06"
      ]
     },
     "execution_count": 53,
     "metadata": {},
     "output_type": "execute_result"
    }
   ],
   "source": [
    "opinions_per_sucursal_df = atributos_sucursales_df[['id_sucursal', 'opinions']].copy()\n",
    "\n",
    "# Use explode to expand lists in 'opinions' column into separate rows\n",
    "df_exploded = opinions_per_sucursal_df.explode('opinions', ignore_index=True)\n",
    "\n",
    "# Convert 'opinions' column into separate columns by expanding each tuple\n",
    "df_exploded[['opinion', 'value']] = pd.DataFrame(df_exploded['opinions'].tolist(), index=df_exploded.index)\n",
    "\n",
    "# Convert percentage strings to decimals\n",
    "df_exploded['value'] = df_exploded['value'].str.replace('%', '').astype(float) / 100\n",
    "\n",
    "# Drop the original 'opinions' column if it's no longer needed\n",
    "df_exploded.drop(columns=['opinions'], inplace=True)\n",
    "\n",
    "# Let's take a look!\n",
    "df_exploded.head(5)"
   ]
  },
  {
   "cell_type": "code",
   "execution_count": 4,
   "id": "401478e7",
   "metadata": {},
   "outputs": [
    {
     "data": {
      "text/html": [
       "<div>\n",
       "<style scoped>\n",
       "    .dataframe tbody tr th:only-of-type {\n",
       "        vertical-align: middle;\n",
       "    }\n",
       "\n",
       "    .dataframe tbody tr th {\n",
       "        vertical-align: top;\n",
       "    }\n",
       "\n",
       "    .dataframe thead th {\n",
       "        text-align: right;\n",
       "    }\n",
       "</style>\n",
       "<table border=\"1\" class=\"dataframe\">\n",
       "  <thead>\n",
       "    <tr style=\"text-align: right;\">\n",
       "      <th></th>\n",
       "      <th>id_sucursal</th>\n",
       "      <th>opinion</th>\n",
       "      <th>value</th>\n",
       "      <th>type_of_experience</th>\n",
       "      <th>kind_of_feeling</th>\n",
       "    </tr>\n",
       "  </thead>\n",
       "  <tbody>\n",
       "    <tr>\n",
       "      <th>0</th>\n",
       "      <td>0</td>\n",
       "      <td>Calidad de la comida</td>\n",
       "      <td>0.27</td>\n",
       "      <td>Calidad de la comida</td>\n",
       "      <td>Buena</td>\n",
       "    </tr>\n",
       "    <tr>\n",
       "      <th>1</th>\n",
       "      <td>0</td>\n",
       "      <td>Justo lo que pedí</td>\n",
       "      <td>0.14</td>\n",
       "      <td>¿Justo lo que pedí?</td>\n",
       "      <td>Buena</td>\n",
       "    </tr>\n",
       "    <tr>\n",
       "      <th>2</th>\n",
       "      <td>0</td>\n",
       "      <td>Tal como lo pedí</td>\n",
       "      <td>0.12</td>\n",
       "      <td>¿Justo lo que pedí?</td>\n",
       "      <td>Buena</td>\n",
       "    </tr>\n",
       "    <tr>\n",
       "      <th>3</th>\n",
       "      <td>0</td>\n",
       "      <td>Pésima calidad</td>\n",
       "      <td>0.06</td>\n",
       "      <td>Calidad de la comida</td>\n",
       "      <td>Mala</td>\n",
       "    </tr>\n",
       "    <tr>\n",
       "      <th>4</th>\n",
       "      <td>0</td>\n",
       "      <td>Mala calidad</td>\n",
       "      <td>0.06</td>\n",
       "      <td>Calidad de la comida</td>\n",
       "      <td>Mala</td>\n",
       "    </tr>\n",
       "  </tbody>\n",
       "</table>\n",
       "</div>"
      ],
      "text/plain": [
       "   id_sucursal               opinion  value    type_of_experience  \\\n",
       "0            0  Calidad de la comida   0.27  Calidad de la comida   \n",
       "1            0     Justo lo que pedí   0.14   ¿Justo lo que pedí?   \n",
       "2            0      Tal como lo pedí   0.12   ¿Justo lo que pedí?   \n",
       "3            0        Pésima calidad   0.06  Calidad de la comida   \n",
       "4            0          Mala calidad   0.06  Calidad de la comida   \n",
       "\n",
       "  kind_of_feeling  \n",
       "0           Buena  \n",
       "1           Buena  \n",
       "2           Buena  \n",
       "3            Mala  \n",
       "4            Mala  "
      ]
     },
     "execution_count": 4,
     "metadata": {},
     "output_type": "execute_result"
    }
   ],
   "source": [
    "# Ahora a cambiar las opiniones en portugués a español, de ese modo en reporte estará en 1 solo idioma.\n",
    "portugues_a_español ={\n",
    "    'Sin opiniones': 'Sin opiniones',\n",
    "    'Qualidade da comida': 'Calidad de la comida',\n",
    "    'Outras razões': 'Otras razones',\n",
    "    'Melhorar experiência': 'Mejorar la experiencia',\n",
    "    'Experiência complicada':'Experiencia complicada',\n",
    "    'Faltou alguns produtos': 'Faltaron algunos productos',\n",
    "    'Melhorar comunicação': 'Mejorar la comunicación',\n",
    "    'Não veio o que eu pedi': 'No fue lo que pedí',\n",
    "    'Exatamente como eu pedi':'Exacto lo que pedi',\n",
    "    'Qualidade dos ingredientes': 'La calidad de los ingredientes',\n",
    "    'Ótima comunicação':'Excelente comunicación',\n",
    "    'Colocar todos os ingred.': 'Incluir todos los items',\n",
    "    'Ótima experiência': 'Gran experiencia',\n",
    "    'Comida ruim/má qualidade': 'Pobre calidad',\n",
    "    'Tempo ideal/pontual': 'Muy puntual',\n",
    "    'Atendimento ruim': 'Mal trato',\n",
    "    'Melhorar tempo de preparo': 'Podría ser más rápido',\n",
    "    'Apresentação do prato': 'La presentacion',\n",
    "    'Ótima embalagem': 'Buena presentación',\n",
    "    'Melhorar embalagem': 'Mejorar la presentación',\n",
    "    'Preparado tarde demais': 'Demora excesiva',\n",
    "    'Embalagem ruim/vazamento': 'Mala presentación',\n",
    "    'Ótimo atendimento': 'La atención', # Yo supongo que esto es positivo\n",
    "    'Ótima qualidade': 'La calidad', # Yo supongo que esto es positivo\n",
    "    'Qualidade mediana': \"Calidad mediana\", # Esta yo la creé\n",
    "    'Realizar modificações': \"Realizar cambios\", # Esta yo la creé\n",
    "    'Responder modificações': \"Realizar cambios\", # Esta yo la creé\n",
    "    'Melhorar ingredientes': \"Mejorar ingredientes\", # Esta yo la creé\n",
    "    'Entregador não responde': 'Delivery no respondió',\n",
    "    'Falto un item': 'Faltó un item',\n",
    "    'id_sucursal': 'id_sucursal'\n",
    "}\n",
    "\n",
    "# A traducir!\n",
    "df_exploded['opinion'] = df_exploded['opinion'].apply(lambda x:\n",
    "                                                        portugues_a_español.get(x) if portugues_a_español.get(x) != None\n",
    "                                                        else x)\n",
    "\n",
    "# Let's take a look!\n",
    "df_exploded.head(5)"
   ]
  },
  {
   "cell_type": "code",
   "execution_count": 5,
   "id": "5ca153d6",
   "metadata": {},
   "outputs": [
    {
     "data": {
      "text/html": [
       "<div>\n",
       "<style scoped>\n",
       "    .dataframe tbody tr th:only-of-type {\n",
       "        vertical-align: middle;\n",
       "    }\n",
       "\n",
       "    .dataframe tbody tr th {\n",
       "        vertical-align: top;\n",
       "    }\n",
       "\n",
       "    .dataframe thead th {\n",
       "        text-align: right;\n",
       "    }\n",
       "</style>\n",
       "<table border=\"1\" class=\"dataframe\">\n",
       "  <thead>\n",
       "    <tr style=\"text-align: right;\">\n",
       "      <th></th>\n",
       "      <th>id_sucursal</th>\n",
       "      <th>opinion</th>\n",
       "      <th>value</th>\n",
       "      <th>type_of_experience</th>\n",
       "      <th>kind_of_feeling</th>\n",
       "    </tr>\n",
       "  </thead>\n",
       "  <tbody>\n",
       "    <tr>\n",
       "      <th>0</th>\n",
       "      <td>0</td>\n",
       "      <td>Calidad de la comida</td>\n",
       "      <td>0.27</td>\n",
       "      <td>Calidad de la comida</td>\n",
       "      <td>Buena</td>\n",
       "    </tr>\n",
       "    <tr>\n",
       "      <th>1</th>\n",
       "      <td>0</td>\n",
       "      <td>Justo lo que pedí</td>\n",
       "      <td>0.14</td>\n",
       "      <td>¿Justo lo que pedí?</td>\n",
       "      <td>Buena</td>\n",
       "    </tr>\n",
       "    <tr>\n",
       "      <th>2</th>\n",
       "      <td>0</td>\n",
       "      <td>Tal como lo pedí</td>\n",
       "      <td>0.12</td>\n",
       "      <td>¿Justo lo que pedí?</td>\n",
       "      <td>Buena</td>\n",
       "    </tr>\n",
       "    <tr>\n",
       "      <th>3</th>\n",
       "      <td>0</td>\n",
       "      <td>Pésima calidad</td>\n",
       "      <td>0.06</td>\n",
       "      <td>Calidad de la comida</td>\n",
       "      <td>Mala</td>\n",
       "    </tr>\n",
       "    <tr>\n",
       "      <th>4</th>\n",
       "      <td>0</td>\n",
       "      <td>Mala calidad</td>\n",
       "      <td>0.06</td>\n",
       "      <td>Calidad de la comida</td>\n",
       "      <td>Mala</td>\n",
       "    </tr>\n",
       "  </tbody>\n",
       "</table>\n",
       "</div>"
      ],
      "text/plain": [
       "   id_sucursal               opinion  value    type_of_experience  \\\n",
       "0            0  Calidad de la comida   0.27  Calidad de la comida   \n",
       "1            0     Justo lo que pedí   0.14   ¿Justo lo que pedí?   \n",
       "2            0      Tal como lo pedí   0.12   ¿Justo lo que pedí?   \n",
       "3            0        Pésima calidad   0.06  Calidad de la comida   \n",
       "4            0          Mala calidad   0.06  Calidad de la comida   \n",
       "\n",
       "  kind_of_feeling  \n",
       "0           Buena  \n",
       "1           Buena  \n",
       "2           Buena  \n",
       "3            Mala  \n",
       "4            Mala  "
      ]
     },
     "execution_count": 5,
     "metadata": {},
     "output_type": "execute_result"
    }
   ],
   "source": [
    "# Ahora vamos a agrupar las opiniones en tipo y si son negativas o positivas. Esto para no complicar el análisis en Power BI\n",
    "grouped_opinions = {\n",
    "    \"Calidad de la comida\": [\n",
    "        \"Calidad de la comida\", \"Pésima calidad\", \"Mala calidad\", \n",
    "        \"Pobre calidad\", \"Calidad mediana\", \"La calidad de los ingredientes\", \n",
    "        \"La calidad\", \"Mejorar ingredientes\", \"La comida\"\n",
    "    ],\n",
    "    \"¿Justo lo que pedí?\": [\n",
    "        \"Justo lo que pedí\", \"Tal como lo pedí\", \"Exacto lo que pedi\", \n",
    "        \"Respetar el pedido\", \"Faltaron algunos items\", \"Faltó un item\", \"Faltaron muchos productos\", \n",
    "        \"Faltaron algunos productos\", \"Faltó un producto\", \n",
    "        \"Incluir todos los items\", \"Completar el pedido\", \"Tomó en cuenta mis pedidos\", \"Tomó en cuenta mis pedidos\", \"No fue lo que pedí\"\n",
    "    ],\n",
    "    \"Presentación\": [\n",
    "        \"Buena presentación\", \"La presentacion\", \"Mala presentación\", \n",
    "        \"Mejorar la presentación\"   \n",
    "    ],\n",
    "    \"Puntualidad\": [\n",
    "        \"Demora excesiva\", \"Muy puntual\", \"Podría ser más rápido\"\n",
    "    ],\n",
    "    \"Experiencia en la compra\": [\n",
    "        \"Gran experiencia\", \"Experiencia complicada\", \"La atención\", \n",
    "        \"Pésimo trato\", \"Malas formas\", \"Mal trato\", \"Delivery no respondió\", \n",
    "        \"Excelente comunicación\", \"Mejorar la comunicación\", \"Mejorar la experiencia\", \"Realizar cambios\"\n",
    "    ],\n",
    "    \"Other\": [\"Otras razones\"],\n",
    "    \"Sin opinión\": [\"Sin opiniones\"]\n",
    "}\n",
    "\n",
    "# Dictionary with feedback divided into positive and negative\n",
    "feedback_sentiment = {\n",
    "    \"Positiva\": [\n",
    "                        \"La calidad de los ingredientes\",\n",
    "                          \"La calidad\",\n",
    "                          \"Calidad de la comida\",\n",
    "                          \"Justo lo que pedí\",\n",
    "                          \"Tal como lo pedí\",\n",
    "                          \"Exacto lo que pedi\",\n",
    "                          \"Tomó en cuenta mis pedidos\",\n",
    "                          \"La presentacion\",\n",
    "                          \"Buena presentación\",\n",
    "                          \"Muy puntual\",\n",
    "                          \"La atención\",\n",
    "                          \"Gran experiencia\",\n",
    "                          \"Excelente comunicación\",\n",
    "                          \"La comida\"\n",
    "                        ],\n",
    "    \"Negativa\":  [\n",
    "        \"Pésima calidad\", \"Mala calidad\", \"Pobre calidad\",\n",
    "            \"Mejorar ingredientes\", \"Faltó un item\", \"Faltó un producto\",\n",
    "            \"Faltaron algunos items\", \"Faltaron algunos productos\",\n",
    "            \"Mala presentación\", \"Mejorar la presentación\",\n",
    "            \"Podría ser más rápido\",\n",
    "            \"Demora excesiva\",\n",
    "            \"Experiencia complicada\", \"Pésimo trato\", \"Malas formas\", \"Mal trato\", \n",
    "            \"Delivery no respondió\", \"Mejorar la comunicación\", \"Mejorar la experiencia\", \n",
    "            \"Realizar cambios\", \"Respetar el pedido\", \"Completar el pedido\",  \"Faltaron muchos productos\", \"Incluir todos los items\", \"No fue lo que pedí\"\n",
    "        ],\n",
    "    'Neutra': [\"Calidad mediana\", \"Sin opiniones\", \"Otras razones\"]\n",
    "}\n",
    "\n",
    "# Type of experience\n",
    "type_of_experience = {phrase: category for category, phrases in grouped_opinions.items() for phrase in phrases}\n",
    "\n",
    "# Positive or negative experience\n",
    "kind_of_feeling = {phrase: category for category, phrases in feedback_sentiment.items() for phrase in phrases}\n",
    "\n",
    "df_exploded['type_of_experience'] = df_exploded['opinion'].apply(lambda x:\n",
    "                                                        type_of_experience.get(x) if type_of_experience.get(x) != None\n",
    "                                                        else x)\n",
    "\n",
    "df_exploded['kind_of_feeling'] = df_exploded['opinion'].apply(lambda x:\n",
    "                                                        kind_of_feeling.get(x) if kind_of_feeling.get(x) != None\n",
    "                                                        else x)\n",
    "\n",
    "# Let's take a look!\n",
    "df_exploded.head()"
   ]
  },
  {
   "cell_type": "code",
   "execution_count": 55,
   "id": "eb2e202b",
   "metadata": {},
   "outputs": [],
   "source": [
    "# Now that we saved the information, can get rid off column 'opinions'\n",
    "atributos_sucursales_df.drop(columns=['opinions'], inplace=True)\n",
    "\n",
    "# Let's save it into a .csv\n",
    "df_exploded.to_csv('opinions_per_sucursal.csv', index=False)\n",
    "\n",
    "# Guardamos nuestro avance\n",
    "df_checkpoint_5 = atributos_sucursales_df.copy()"
   ]
  },
  {
   "cell_type": "code",
   "execution_count": 62,
   "id": "0c356d3d",
   "metadata": {},
   "outputs": [],
   "source": [
    "# We are gonna rearange the columns\n",
    "atributos_sucursales_df = atributos_sucursales_df[[\n",
    "                            'id_sucursal',\n",
    "                            'id_cadena',\n",
    "                            'url_sucursal',\n",
    "                            'nombre_sucursal',\n",
    "                            'direccion_sucursal',\n",
    "                            'mostraba_opiniones',\n",
    "                            'overral_stars',\n",
    "                            'number_opinions',\n",
    "                            'tipo_envio',\n",
    "                            'min_tiempo_delivery',\n",
    "                            'max_tiempo_delivery'\n",
    "                        ]]\n",
    "\n",
    "# Let's save it into a .csv\n",
    "atributos_sucursales_df.to_csv('sucursales.csv', index=False)"
   ]
  }
 ],
 "metadata": {
  "kernelspec": {
   "display_name": "Python 3",
   "language": "python",
   "name": "python3"
  },
  "language_info": {
   "codemirror_mode": {
    "name": "ipython",
    "version": 3
   },
   "file_extension": ".py",
   "mimetype": "text/x-python",
   "name": "python",
   "nbconvert_exporter": "python",
   "pygments_lexer": "ipython3",
   "version": "3.9.0"
  }
 },
 "nbformat": 4,
 "nbformat_minor": 5
}
